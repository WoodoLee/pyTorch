{
 "cells": [
  {
   "cell_type": "code",
   "execution_count": 4,
   "metadata": {},
   "outputs": [],
   "source": [
    "import ROOT\n",
    "import numpy as np\n",
    "import pandas as pd\n",
    "import time\n",
    "import printColor as pc\n",
    "from matplotlib import pyplot as plt\n",
    "from mpl_toolkits.mplot3d import Axes3D\n",
    "import matplotlib\n",
    "from celluloid import Camera\n",
    "from moviepy.editor import *\n",
    "from matplotlib import gridspec\n",
    "import scipy.stats as stats\n",
    "\n",
    "\n",
    "color = pc.bcolors()\n",
    "\n",
    "ROOT.ROOT.EnableImplicitMT()\n",
    "\n",
    "def importROOT(filename):\n",
    "\tf = ROOT.TFile.Open(filename, \"read\")\n",
    "\ttree = f.Get(\"Hit\")\n",
    "\tdataTrack, columnsTrack = tree.AsMatrix(return_labels=True)\n",
    "\ttrack = pd.DataFrame(data=dataTrack, columns=columnsTrack)\n",
    "\treturn(track)"
   ]
  },
  {
   "cell_type": "code",
   "execution_count": 7,
   "metadata": {},
   "outputs": [],
   "source": [
    "track = importROOT(\"~/data/eDepPhiVid/g2wd10k_1.root\")\n",
    "eID = track['eventID']"
   ]
  },
  {
   "cell_type": "code",
   "execution_count": 6,
   "metadata": {},
   "outputs": [
    {
     "name": "stdout",
     "output_type": "stream",
     "text": [
      "        eventID    hitTime     hitPosX     hitPosY     hitPosZ     hitPMag  \\\n",
      "0           0.0   4.238824 -267.060920   41.285829  -38.945670  103.413977   \n",
      "1           0.0   4.731781 -133.915412   22.222583  -69.848893  103.413977   \n",
      "2           0.0   4.821642 -118.605974    1.000000  -75.952805  103.413977   \n",
      "3           0.0   4.887087 -111.285552  -16.613435  -80.433848  103.413977   \n",
      "4           0.0   4.947738 -107.576174  -33.902156  -84.583228  103.413977   \n",
      "...         ...        ...         ...         ...         ...         ...   \n",
      "222569   9999.0  18.199791 -193.213184  -99.569360 -390.647037  154.700238   \n",
      "222570   9999.0  18.383713 -166.586178  -55.178592 -408.829406  154.700238   \n",
      "222571   9999.0  18.572655 -124.006789  -20.653211 -421.755763  154.700238   \n",
      "222572   9999.0  19.231865   51.586750  -51.672053 -468.136321  154.700238   \n",
      "222573   9999.0  19.450406   79.786826 -108.115843 -483.511491  154.700238   \n",
      "\n",
      "             hitPX       hitPY      hitPZ       hitRA        hitR  \\\n",
      "0       -41.692458   91.740966 -23.233270  124.093694  270.233334   \n",
      "1        88.362129   46.018523 -21.275095  124.093694  135.746752   \n",
      "2        63.767294  -73.502307 -22.794332  124.093694  118.610190   \n",
      "3        42.843733  -86.220114 -22.610616  124.093694  112.518800   \n",
      "4        26.048028  -92.072527 -22.393629  124.093694  112.791797   \n",
      "...            ...         ...        ...         ...         ...   \n",
      "222569    2.110550  132.258784 -43.486459  125.530186  217.360051   \n",
      "222570   48.606865  120.961332 -45.479053  125.530186  175.486842   \n",
      "222571   88.666503   99.200559 -30.556037  125.530186  125.714911   \n",
      "222572  117.630033   55.858216 -31.428358  125.530186   73.015025   \n",
      "222573   73.663418 -102.067196 -30.368055  125.530186  134.368795   \n",
      "\n",
      "                eDep    hitAngle  VolID  \n",
      "0       6.442185e-24  168.001886   19.0  \n",
      "1       5.358102e-24  151.305849   19.0  \n",
      "2       8.759990e-25  147.363089   20.0  \n",
      "3       6.407509e-25  143.571699   21.0  \n",
      "4       5.961922e-25  139.733074   22.0  \n",
      "...              ...         ...    ...  \n",
      "222569  1.851505e-24  115.607219   23.0  \n",
      "222570  1.978484e-24  111.989339   22.0  \n",
      "222571  1.998356e-24  106.366101   21.0  \n",
      "222572  7.244284e-24   83.749265   35.0  \n",
      "222573  2.137387e-24   80.851713   34.0  \n",
      "\n",
      "[222574 rows x 14 columns]\n"
     ]
    }
   ],
   "source": [
    "print(track)"
   ]
  },
  {
   "cell_type": "code",
   "execution_count": 8,
   "metadata": {},
   "outputs": [
    {
     "name": "stdout",
     "output_type": "stream",
     "text": [
      "0            0.0\n",
      "1            0.0\n",
      "2            0.0\n",
      "3            0.0\n",
      "4            0.0\n",
      "           ...  \n",
      "222569    9999.0\n",
      "222570    9999.0\n",
      "222571    9999.0\n",
      "222572    9999.0\n",
      "222573    9999.0\n",
      "Name: eventID, Length: 222574, dtype: float64\n"
     ]
    }
   ],
   "source": [
    "print(eID)"
   ]
  },
  {
   "cell_type": "code",
   "execution_count": 12,
   "metadata": {},
   "outputs": [],
   "source": [
    "eID = track['eventID']\n",
    "eID = eID.drop_duplicates()\n",
    "eIDNum = len(eID)"
   ]
  },
  {
   "cell_type": "code",
   "execution_count": 13,
   "metadata": {},
   "outputs": [],
   "source": [
    "eIDNum = range(eIDNum)"
   ]
  },
  {
   "cell_type": "code",
   "execution_count": 14,
   "metadata": {},
   "outputs": [
    {
     "name": "stdout",
     "output_type": "stream",
     "text": [
      "range(0, 7543)\n"
     ]
    }
   ],
   "source": [
    "print(eIDNum)"
   ]
  },
  {
   "cell_type": "code",
   "execution_count": 15,
   "metadata": {},
   "outputs": [],
   "source": [
    "timeWinTotal = 60e-6 # s\n",
    "binNum = 5e-9 # s\n",
    "timeWinNum = int(timeWinTotal / binNum)"
   ]
  },
  {
   "cell_type": "code",
   "execution_count": 16,
   "metadata": {},
   "outputs": [
    {
     "name": "stdout",
     "output_type": "stream",
     "text": [
      "12000\n"
     ]
    }
   ],
   "source": [
    "print(timeWinNum)\n"
   ]
  },
  {
   "cell_type": "code",
   "execution_count": 32,
   "metadata": {},
   "outputs": [],
   "source": [
    "timeNum = range(timeWinNum)"
   ]
  },
  {
   "cell_type": "code",
   "execution_count": 46,
   "metadata": {},
   "outputs": [],
   "source": [
    "dfMuonPos = pd.DataFrame([])\n"
   ]
  },
  {
   "cell_type": "code",
   "execution_count": null,
   "metadata": {},
   "outputs": [],
   "source": [
    "fig, ax = plt.subplots(figsize=(30, 5))\n",
    "gs = gridspec.GridSpec(1, 2, width_ratios=[3, 3]) \n",
    "camera = Camera(fig)\n",
    "BinRange = range(timeWinNum)\n",
    "#test = range(100)\n",
    "for j in timeNum:\n",
    "#for j in test:\n",
    "    #ax0 = plt.subplot(gs[0])\n",
    "    #print(color.RED + \"Time Window = \",j*5e-3, \"-\", j*5e-3+5e-3 ,color.ENDC)\n",
    "    dfMuonPosTemp = track[(track['hitTime'] >= j*5e-3) & (track['hitTime'] < j*5e-3+5e-3)] \n",
    "    dfMuonPosTemp['timeBin'] = j\n",
    "    if (j % 100 ==0):\n",
    "        print(j)\n",
    "    #print(j)\n",
    "    dfMuonPosTemp = dfMuonPosTemp[['hitTime' , 'hitPosX', 'hitPosY' ,'hitPosZ','hitPMag','hitTime','hitR','eDep','hitAngle','VolID','timeBin']]\n",
    "    #ax0.bar(\"momMag\",dfMuonPosTemp['momMag'] )\n",
    "    ax0 = plt.subplot(gs[0])\n",
    "    ax1 = plt.subplot(gs[1])\n",
    "    #ax2 = plt.subplot(gs[2])\n",
    "    #print(dfMuonPosTemp)\n",
    "    dfMuonPos = pd.concat([dfMuonPos, dfMuonPosTemp])\n",
    "    ax0.scatter(dfMuonPosTemp[\"hitPosX\"],dfMuonPosTemp[\"hitPosY\"],dfMuonPosTemp[\"hitPosZ\"], color='r' )\n",
    "    #print(dfMuonPos)\n",
    "    #ax1.hist(dfMuonPos[\"hitPMag\"], range = (0,300), bins = 300)\n",
    "    #ax2.hist(dfMuonPos[\"hitTime\"], range = (0,60), bins = timeWinNum)\n",
    "    camera.snap()\n",
    "print(dfMuonPos)\n",
    "#animation = camera.animate(interval=1, blit=True)\n",
    "animation = camera.animate()\n",
    "animation.save(\"muon.mp4\")\n",
    "\n",
    "#animation.save(\n",
    "#    'test.mp4',\n",
    "#    dpi=100,\n",
    "#    savefig_kwargs={\n",
    "#        'frameon': False,\n",
    "#        'pad_inches': 'tight'\n",
    "#    }\n",
    "#)\n",
    "clip = (VideoFileClip(\"muon.mp4\").speedx(10))\n",
    "clip.write_gif(\"muon.gif\")\n",
    "\n"
   ]
  },
  {
   "cell_type": "code",
   "execution_count": null,
   "metadata": {},
   "outputs": [],
   "source": []
  }
 ],
 "metadata": {
  "kernelspec": {
   "display_name": "Python 3",
   "language": "python",
   "name": "python3"
  },
  "language_info": {
   "codemirror_mode": {
    "name": "ipython",
    "version": 3
   },
   "file_extension": ".py",
   "mimetype": "text/x-python",
   "name": "python",
   "nbconvert_exporter": "python",
   "pygments_lexer": "ipython3",
   "version": "3.7.6"
  }
 },
 "nbformat": 4,
 "nbformat_minor": 4
}
