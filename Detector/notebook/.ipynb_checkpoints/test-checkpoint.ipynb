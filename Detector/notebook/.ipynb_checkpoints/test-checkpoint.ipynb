{
 "cells": [
  {
   "cell_type": "code",
   "execution_count": 1,
   "metadata": {},
   "outputs": [
    {
     "name": "stdout",
     "output_type": "stream",
     "text": [
      "Welcome to JupyROOT 6.21/01\n",
      "\u001b[93m==========================================================\u001b[0m\n",
      "\u001b[31m start : color class is imported.. \u001b[0m\n",
      "\u001b[93m==========================================================\u001b[0m\n"
     ]
    }
   ],
   "source": [
    "import ROOT\n",
    "import numpy as np\n",
    "import pandas as pd\n",
    "import time\n",
    "import printColor as pc\n",
    "from matplotlib import pyplot as plt\n",
    "from mpl_toolkits.mplot3d import Axes3D\n",
    "import matplotlib\n",
    "from celluloid import Camera\n",
    "from moviepy.editor import *\n",
    "from matplotlib import gridspec\n",
    "import scipy.stats as stats\n",
    "\n",
    "\n",
    "color = pc.bcolors()\n",
    "\n",
    "ROOT.ROOT.EnableImplicitMT()\n",
    "\n",
    "def importROOT(filename):\n",
    "\tf = ROOT.TFile.Open(filename, \"read\")\n",
    "\ttree = f.Get(\"Hit\")\n",
    "\tdataTrack, columnsTrack = tree.AsMatrix(return_labels=True)\n",
    "\ttrack = pd.DataFrame(data=dataTrack, columns=columnsTrack)\n",
    "\treturn(track)"
   ]
  },
  {
   "cell_type": "code",
   "execution_count": 2,
   "metadata": {},
   "outputs": [],
   "source": [
    "track = importROOT(\"~/data/g2wd10k_1.root\")\n",
    "eID = track['eventID']"
   ]
  },
  {
   "cell_type": "code",
   "execution_count": 3,
   "metadata": {},
   "outputs": [
    {
     "name": "stdout",
     "output_type": "stream",
     "text": [
      "        eventID   hitTime     hitPosX     hitPosY     hitPosZ     hitPMag  \\\n",
      "0           0.0  1.864842 -244.145496 -125.520670   -1.162825  173.582812   \n",
      "1           0.0  2.024924 -237.285947  -78.150340   -1.705516  173.582812   \n",
      "2           0.0  2.176869 -220.514888  -35.938592   -3.156726  173.582812   \n",
      "3           0.0  2.319355 -196.202879   -1.000000   -5.472329  173.582812   \n",
      "4           0.0  2.450758 -167.241815   25.476036   -7.996569  173.582812   \n",
      "...         ...       ...         ...         ...         ...         ...   \n",
      "286416   9999.0  4.317965   96.386414  186.966298 -247.825312   72.114738   \n",
      "286417   9999.0  4.439602   67.104046  203.288951 -260.705008   72.114738   \n",
      "286418   9999.0  5.501702   96.669420  187.521730 -365.365426   72.114738   \n",
      "286419   9999.0  5.622322   67.220428  203.647136 -377.175575   72.114738   \n",
      "286420   9999.0  6.647833   96.465814  187.122131 -483.614236   72.114738   \n",
      "\n",
      "             hitPX       hitPY      hitPZ       hitRA        hitR  \\\n",
      "0      -170.855558   30.640385  -0.733159  142.624571  274.522243   \n",
      "1         5.252916  172.488312  -1.972817  142.624571  249.824130   \n",
      "2        45.877905  165.086908  -5.590920  142.624571  223.424256   \n",
      "3        82.921517  148.812145  -9.266851  142.624571  196.205428   \n",
      "4       114.122475  124.905608 -10.929536  142.624571  169.171076   \n",
      "...            ...         ...        ...         ...         ...   \n",
      "286416  -33.590135   35.569853 -18.684840  129.361574  210.349085   \n",
      "286417  -46.958802   11.039518 -18.203049  129.361574  214.077908   \n",
      "286418  -31.459501   36.146266 -16.675183  129.361574  210.972453   \n",
      "286419  -46.185717   10.122802 -16.355957  129.361574  214.454521   \n",
      "286420  -28.976592   35.961351 -17.050289  129.361574  210.523978   \n",
      "\n",
      "                eDep    hitAngle  VolID  \n",
      "0       1.068679e-23  152.790289   23.0  \n",
      "1       1.773579e-24  161.766602   22.0  \n",
      "2       1.673502e-24  170.708536   21.0  \n",
      "3       1.557158e-24  178.375926   20.0  \n",
      "4       1.422321e-24  170.928807   19.0  \n",
      "...              ...         ...    ...  \n",
      "286416  1.150954e-23   72.751374    7.0  \n",
      "286417  1.202291e-24   78.526031    8.0  \n",
      "286418  1.107993e-23   76.754280    7.0  \n",
      "286419  1.189623e-24   81.087351    8.0  \n",
      "286420  1.066700e-23   79.461799    7.0  \n",
      "\n",
      "[286421 rows x 14 columns]\n"
     ]
    }
   ],
   "source": [
    "print(track)"
   ]
  },
  {
   "cell_type": "code",
   "execution_count": 4,
   "metadata": {},
   "outputs": [
    {
     "name": "stdout",
     "output_type": "stream",
     "text": [
      "0            0.0\n",
      "1            0.0\n",
      "2            0.0\n",
      "3            0.0\n",
      "4            0.0\n",
      "           ...  \n",
      "286416    9999.0\n",
      "286417    9999.0\n",
      "286418    9999.0\n",
      "286419    9999.0\n",
      "286420    9999.0\n",
      "Name: eventID, Length: 286421, dtype: float64\n"
     ]
    }
   ],
   "source": [
    "print(eID)"
   ]
  },
  {
   "cell_type": "code",
   "execution_count": 5,
   "metadata": {},
   "outputs": [],
   "source": [
    "eID = track['eventID']\n",
    "eID = eID.drop_duplicates()\n",
    "eIDNum = len(eID)"
   ]
  },
  {
   "cell_type": "code",
   "execution_count": 6,
   "metadata": {},
   "outputs": [],
   "source": [
    "eIDNum = range(eIDNum)"
   ]
  },
  {
   "cell_type": "code",
   "execution_count": 7,
   "metadata": {},
   "outputs": [
    {
     "name": "stdout",
     "output_type": "stream",
     "text": [
      "range(0, 8755)\n"
     ]
    }
   ],
   "source": [
    "print(eIDNum)"
   ]
  },
  {
   "cell_type": "code",
   "execution_count": 8,
   "metadata": {},
   "outputs": [],
   "source": [
    "timeWinTotal = 60e-6 # s\n",
    "binNum = 5e-9 # s\n",
    "timeWinNum = int(timeWinTotal / binNum)"
   ]
  },
  {
   "cell_type": "code",
   "execution_count": 9,
   "metadata": {},
   "outputs": [
    {
     "name": "stdout",
     "output_type": "stream",
     "text": [
      "12000\n"
     ]
    }
   ],
   "source": [
    "print(timeWinNum)\n"
   ]
  },
  {
   "cell_type": "code",
   "execution_count": 10,
   "metadata": {},
   "outputs": [],
   "source": [
    "timeNum = range(timeWinNum)"
   ]
  },
  {
   "cell_type": "code",
   "execution_count": 14,
   "metadata": {},
   "outputs": [],
   "source": [
    "dfMuonPos = pd.DataFrame([])\n"
   ]
  },
  {
   "cell_type": "code",
   "execution_count": null,
   "metadata": {},
   "outputs": [
    {
     "name": "stdout",
     "output_type": "stream",
     "text": [
      "0\n",
      "100\n",
      "200\n",
      "300\n",
      "400\n",
      "500\n",
      "600\n",
      "700\n",
      "800\n",
      "900\n",
      "         hitTime     hitPosX     hitPosY     hitPosZ     hitPMag   hitTime  \\\n",
      "3300    0.261761   90.231938  274.469283   -7.238179   20.591296  0.261761   \n",
      "251315  0.280090  -45.415228 -287.449473   -6.520492  120.560842  0.280090   \n",
      "117886  0.298346 -253.873220 -130.477193  -11.059450   70.005856  0.298346   \n",
      "240148  0.296538  170.661629 -235.721391  -27.076385   83.912936  0.296538   \n",
      "273109  0.308764   82.019228 -255.665297   25.098409   37.423350  0.308764   \n",
      "...          ...         ...         ...         ...         ...       ...   \n",
      "268766  4.996623 -235.768885 -121.252573 -153.678466  270.253979  4.996623   \n",
      "270066  4.996463 -125.305665   -1.000000  183.493403  198.410302  4.996463   \n",
      "272020  4.996594   76.647618  152.632109 -175.865152  156.760951  4.996594   \n",
      "275561  4.999785 -199.091097  145.884217  -33.460537   58.339683  4.999785   \n",
      "284936  4.999344  188.863884  -28.900635  -57.024739  248.147416  4.999344   \n",
      "\n",
      "              hitR          eDep    hitAngle  VolID  timeBin  \n",
      "3300    288.920733  2.505992e-24   71.807598    8.0       52  \n",
      "251315  291.015021  2.848768e-24   98.975892   29.0       56  \n",
      "117886  285.439853  2.222856e-24  152.715806   23.0       59  \n",
      "240148  291.015405  2.845887e-24   54.273756   34.0       59  \n",
      "273109  268.499345  2.936095e-24   72.293158   32.0       61  \n",
      "...            ...           ...         ...    ...      ...  \n",
      "268766  265.121017  1.584863e-24  140.297993   23.0      999  \n",
      "270066  125.309655  8.329944e-25  124.328351   20.0      999  \n",
      "272020  170.796423  1.237843e-24   71.780861    7.0      999  \n",
      "275561  246.818698  6.314911e-24  143.064952   16.0      999  \n",
      "284936  191.062328  1.081753e-24   18.700893   39.0      999  \n",
      "\n",
      "[50922 rows x 11 columns]\n"
     ]
    }
   ],
   "source": [
    "fig1 = plt.figure(1, figsize =(10 , 10))\n",
    "pos = fig1.add_subplot(111, projection='3d')\n",
    "#gs = gridspec.GridSpec(1, 2, width_ratios=[3, 3]) \n",
    "camera = Camera(fig1)\n",
    "BinRange = range(timeWinNum)\n",
    "test = range(1000)\n",
    "#for j in timeNum:\n",
    "for j in test:\n",
    "    #ax0 = plt.subplot(gs[0])\n",
    "    #print(color.RED + \"Time Window = \",j*5e-3, \"-\", j*5e-3+5e-3 ,color.ENDC)\n",
    "    dfMuonPosTemp = track[(track['hitTime'] >= j*5e-3) & (track['hitTime'] < j*5e-3+5e-3)] \n",
    "    dfMuonPosTemp['timeBin'] = j\n",
    "    if (j % 100 ==0):\n",
    "        print(j)\n",
    "    #print(j)\n",
    "    #dfMuonPosTemp = dfMuonPosTemp[['hitTime' , 'hitPosX', 'hitPosY' ,'hitPosZ','hitPMag','hitTime','hitR','eDep','hitAngle','VolID','timeBin']]\n",
    "    dfMuonPosTemp = dfMuonPosTemp[['hitPosX', 'hitPosY' ,'hitPosZ']]\n",
    "    #ax0.bar(\"momMag\",dfMuonPosTemp['momMag'] )\n",
    "    dfMuonPos = pd.concat([dfMuonPos, dfMuonPosTemp])\n",
    "    pos.scatter(dfMuonPosTemp[\"hitPosX\"],dfMuonPosTemp[\"hitPosY\"],dfMuonPosTemp[\"hitPosZ\"], color='r' )\n",
    "    #print(dfMuonPos)\n",
    "    #ax1.hist(dfMuonPos[\"hitPMag\"], range = (0,300), bins = 300)\n",
    "    #ax2.hist(dfMuonPos[\"hitTime\"], range = (0,60), bins = timeWinNum)\n",
    "    camera.snap()\n",
    "print(dfMuonPos)\n",
    "#animation = camera.animate(interval=1, blit=True)\n",
    "animation = camera.animate()\n",
    "animation.save(\"muon.mp4\")\n",
    "\n",
    "#animation.save(\n",
    "#    'test.mp4',\n",
    "#    dpi=100,\n",
    "#    savefig_kwargs={\n",
    "#        'frameon': False,\n",
    "#        'pad_inches': 'tight'\n",
    "#    }\n",
    "#)\n",
    "clip = (VideoFileClip(\"muon.mp4\").speedx(10))\n",
    "clip.write_gif(\"muon.gif\")\n",
    "\n"
   ]
  },
  {
   "cell_type": "code",
   "execution_count": null,
   "metadata": {},
   "outputs": [],
   "source": []
  }
 ],
 "metadata": {
  "kernelspec": {
   "display_name": "Python 3",
   "language": "python",
   "name": "python3"
  },
  "language_info": {
   "codemirror_mode": {
    "name": "ipython",
    "version": 3
   },
   "file_extension": ".py",
   "mimetype": "text/x-python",
   "name": "python",
   "nbconvert_exporter": "python",
   "pygments_lexer": "ipython3",
   "version": "3.7.4"
  }
 },
 "nbformat": 4,
 "nbformat_minor": 4
}
