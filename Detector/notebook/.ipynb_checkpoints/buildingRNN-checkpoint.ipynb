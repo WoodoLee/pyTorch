{
 "cells": [
  {
   "cell_type": "code",
   "execution_count": 1,
   "metadata": {},
   "outputs": [
    {
     "name": "stdout",
     "output_type": "stream",
     "text": [
      "Welcome to JupyROOT 6.18/04\n",
      "\u001b[93m==========================================================\u001b[0m\n",
      "\u001b[31m start : color class is imported.. \u001b[0m\n",
      "\u001b[93m==========================================================\u001b[0m\n",
      "222574\n",
      "12000\n",
      "0 th window: 0.0  ~  0.005 [us] is creating..\n",
      "1000 th window: 5.0  ~  5.005 [us] is creating..\n",
      "2000 th window: 10.0  ~  10.005 [us] is creating..\n",
      "3000 th window: 15.0  ~  15.005 [us] is creating..\n",
      "4000 th window: 20.0  ~  20.005 [us] is creating..\n",
      "5000 th window: 25.0  ~  25.005 [us] is creating..\n",
      "6000 th window: 30.0  ~  30.005 [us] is creating..\n",
      "7000 th window: 35.0  ~  35.005 [us] is creating..\n",
      "8000 th window: 40.0  ~  40.005 [us] is creating..\n",
      "9000 th window: 45.0  ~  45.005 [us] is creating..\n",
      "10000 th window: 50.0  ~  50.005 [us] is creating..\n",
      "11000 th window: 55.0  ~  55.005 [us] is creating..\n"
     ]
    }
   ],
   "source": [
    "import ROOT\n",
    "import numpy as np\n",
    "import pandas as pd\n",
    "import time\n",
    "import printColor as pc\n",
    "from matplotlib import pyplot as plt\n",
    "from mpl_toolkits.mplot3d import Axes3D\n",
    "import matplotlib\n",
    "from celluloid import Camera\n",
    "from moviepy.editor import *\n",
    "from matplotlib import gridspec\n",
    "import scipy.stats as stats\n",
    "import itertools\n",
    "from matplotlib.ticker import (AutoMinorLocator, MultipleLocator)\n",
    "color = pc.bcolors()\n",
    "import detectRead\n",
    "\n",
    "filename = \"~/data/eDepPhiVid/g2wd10k_1.root\"\n",
    "\n",
    "dfData = detectRead.importROOT(filename)\n",
    "dfPosi = detectRead.dataWindowing(dfData)"
   ]
  },
  {
   "cell_type": "code",
   "execution_count": null,
   "metadata": {},
   "outputs": [],
   "source": [
    "done = detectRead.threeWindows(dfPosi, 1000 , 2)\n",
    "\n",
    "print(done)\n"
   ]
  }
 ],
 "metadata": {
  "kernelspec": {
   "display_name": "Python 3",
   "language": "python",
   "name": "python3"
  },
  "language_info": {
   "codemirror_mode": {
    "name": "ipython",
    "version": 3
   },
   "file_extension": ".py",
   "mimetype": "text/x-python",
   "name": "python",
   "nbconvert_exporter": "python",
   "pygments_lexer": "ipython3",
   "version": "3.7.6"
  }
 },
 "nbformat": 4,
 "nbformat_minor": 4
}
